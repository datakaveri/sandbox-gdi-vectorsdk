{
 "cells": [
  {
   "cell_type": "markdown",
   "id": "5311c95c",
   "metadata": {},
   "source": [
    "## Fectching Vector Data from GDI using SDK"
   ]
  },
  {
   "cell_type": "markdown",
   "id": "e98720ae",
   "metadata": {},
   "source": [
    "Below script runs the command line to fetch vector data using GDI SDK\n",
    "1. The client credentials (id and secret) are made avialable for download at the registering as user of GDI platform. In case credentials are lost, go to your profile, reset the credentials and download for further use.\n",
    "2. For each data of interest, 'dataset_id' can be copied from the catalogue page\n",
    "3. In case file_name is specified without file extension (.geojson) the code will automatically add file extension and save in 'Data' folder\n",
    "\n"
   ]
  },
  {
   "cell_type": "code",
   "execution_count": null,
   "id": "2dc4f656",
   "metadata": {},
   "outputs": [],
   "source": [
    "'''\n",
    "Install gdi python SDK using below pip statement\n",
    "pip install git+https://github.com/datakaveri/gdi-python-sdk.git\n",
    "-------------------------------------------------------------------------------\n",
    "Command line:\n",
    "gdi get-vector-data --client-id <client_id> --client-secret <client_secret> --role consumer --resource-id <dataset_id> --store-artifact local --config-path 'config.json' --file-path <file_name>\n",
    "'''"
   ]
  },
  {
   "cell_type": "code",
   "execution_count": 4,
   "id": "a4e85ad2",
   "metadata": {},
   "outputs": [
    {
     "data": {
      "application/vnd.jupyter.widget-view+json": {
       "model_id": "2876b77659814a8288c707fec9d57919",
       "version_major": 2,
       "version_minor": 0
      },
      "text/plain": [
       "Text(value='', description='Client ID:', layout=Layout(width='90%'), placeholder='Enter Client ID')"
      ]
     },
     "metadata": {},
     "output_type": "display_data"
    },
    {
     "data": {
      "application/vnd.jupyter.widget-view+json": {
       "model_id": "1f58de4f212e45ddb5bded89a6bd45d2",
       "version_major": 2,
       "version_minor": 0
      },
      "text/plain": [
       "Password(description='Client Secret:', layout=Layout(width='90%'), placeholder='Enter Client Secret')"
      ]
     },
     "metadata": {},
     "output_type": "display_data"
    },
    {
     "data": {
      "application/vnd.jupyter.widget-view+json": {
       "model_id": "556a4e77a9334134bef3ab9b2ea4e553",
       "version_major": 2,
       "version_minor": 0
      },
      "text/plain": [
       "Text(value='', description='Resource ID:', layout=Layout(width='90%'), placeholder='Enter Resource ID')"
      ]
     },
     "metadata": {},
     "output_type": "display_data"
    },
    {
     "data": {
      "application/vnd.jupyter.widget-view+json": {
       "model_id": "e8105f159f044726b52533996cc3d591",
       "version_major": 2,
       "version_minor": 0
      },
      "text/plain": [
       "Text(value='', description='Filename:', layout=Layout(width='90%'), placeholder='e.g. Road_Varanasi')"
      ]
     },
     "metadata": {},
     "output_type": "display_data"
    },
    {
     "data": {
      "application/vnd.jupyter.widget-view+json": {
       "model_id": "68a5b5e82a224a53a9ba9e75f6be6897",
       "version_major": 2,
       "version_minor": 0
      },
      "text/plain": [
       "Button(button_style='success', description='Fetch Resource', style=ButtonStyle())"
      ]
     },
     "metadata": {},
     "output_type": "display_data"
    },
    {
     "data": {
      "application/vnd.jupyter.widget-view+json": {
       "model_id": "d2fd0c225b434e849ea58014e3f8f3b1",
       "version_major": 2,
       "version_minor": 0
      },
      "text/plain": [
       "Output()"
      ]
     },
     "metadata": {},
     "output_type": "display_data"
    }
   ],
   "source": [
    "import ipywidgets as widgets\n",
    "from IPython.display import display, clear_output\n",
    "import subprocess\n",
    "import os\n",
    "import time\n",
    "\n",
    "# ----------------------------------------\n",
    "# Create interactive widgets for user input\n",
    "# ----------------------------------------\n",
    "\n",
    "# Widget for client ID (text input)\n",
    "client_id_widget = widgets.Text(\n",
    "    description=\"Client ID:\",\n",
    "    placeholder=\"Enter Client ID\",\n",
    "    layout=widgets.Layout(width='90%')\n",
    ")\n",
    "\n",
    "# Widget for client secret (hidden input)\n",
    "client_secret_widget = widgets.Password(\n",
    "    description=\"Client Secret:\",\n",
    "    placeholder=\"Enter Client Secret\",\n",
    "    layout=widgets.Layout(width='90%')\n",
    ")\n",
    "\n",
    "# Widget for resource ID (text input)\n",
    "resource_id_widget = widgets.Text(\n",
    "    description=\"Resource ID:\",\n",
    "    placeholder=\"Enter Resource ID\",\n",
    "    layout=widgets.Layout(width='90%')\n",
    ")\n",
    "\n",
    "# Widget for output filename (text input)\n",
    "filename_widget = widgets.Text(\n",
    "    description=\"Filename:\",\n",
    "    placeholder=\"e.g. Road_Varanasi\",\n",
    "    layout=widgets.Layout(width='90%')\n",
    ")\n",
    "\n",
    "# Button to execute the command\n",
    "execute_button = widgets.Button(\n",
    "    description=\"Fetch Resource\",\n",
    "    button_style=\"success\"   # Makes the button green\n",
    ")\n",
    "\n",
    "# Output area to display logs and messages\n",
    "output = widgets.Output()\n",
    "\n",
    "# ------------------------------------------------\n",
    "# Debounce logic to prevent multiple rapid clicks\n",
    "# ------------------------------------------------\n",
    "\n",
    "last_click_time = 0\n",
    "\n",
    "def on_click(b):\n",
    "    \"\"\"\n",
    "    Handler function triggered when the button is clicked.\n",
    "    It reads the widget values and runs the GDI SDK command.\n",
    "    \"\"\"\n",
    "    global last_click_time\n",
    "\n",
    "    # Debounce: ignore clicks occurring within 0.5 seconds\n",
    "    current_time = time.time()\n",
    "    if current_time - last_click_time < 0.5:\n",
    "        return\n",
    "    last_click_time = current_time\n",
    "\n",
    "    with output:\n",
    "        clear_output()\n",
    "\n",
    "        # Read user inputs from widgets\n",
    "        client_id = client_id_widget.value.strip()\n",
    "        client_secret = client_secret_widget.value.strip()\n",
    "        resource_id = resource_id_widget.value.strip()\n",
    "        filename = filename_widget.value.strip()\n",
    "\n",
    "        # Ensure the output filename has a .geojson extension\n",
    "        if not filename.endswith(\".geojson\"):\n",
    "            filename += \".geojson\"\n",
    "\n",
    "        # Create output folder called 'Data' if it doesn't exist\n",
    "        output_dir = \"Data\"\n",
    "        os.makedirs(output_dir, exist_ok=True)\n",
    "        output_path = os.path.join(output_dir, filename)\n",
    "\n",
    "        # Prepare the GDI SDK command to fetch vector data\n",
    "        cmd = [\n",
    "            \"gdi\", \"get-vector-data\",\n",
    "            \"--client-id\", client_id,\n",
    "            \"--client-secret\", client_secret,\n",
    "            \"--role\", \"consumer\",\n",
    "            \"--resource-id\", resource_id,\n",
    "            \"--store-artifact\", \"local\",\n",
    "            \"--config-path\", \"config.json\",\n",
    "            \"--file-path\", output_path\n",
    "        ]\n",
    "\n",
    "        # Print the command for debugging purposes\n",
    "        print(\"Executing command:\")\n",
    "        print(\" \".join(cmd))\n",
    "        print()\n",
    "\n",
    "        try:\n",
    "            # Run the command and capture output\n",
    "            result = subprocess.run(cmd, check=True, capture_output=True, text=True)\n",
    "\n",
    "            # Print success message and output file path\n",
    "            print(\"[DONE] Collection download complete.\")\n",
    "            print(f\"GDI vector resource successfully downloaded to:\\n{output_path}\")\n",
    "\n",
    "        except subprocess.CalledProcessError as e:\n",
    "            # Print error message if command fails\n",
    "            print(\"[ERROR] Failed to fetch resource.\")\n",
    "            print(e.stderr)\n",
    "\n",
    "# ------------------------------------------------\n",
    "# Attach the click handler to the button\n",
    "# ------------------------------------------------\n",
    "\n",
    "execute_button.on_click(on_click)\n",
    "\n",
    "# ------------------------------------------------\n",
    "# Display all widgets and the output area\n",
    "# ------------------------------------------------\n",
    "\n",
    "display(\n",
    "    client_id_widget,\n",
    "    client_secret_widget,\n",
    "    resource_id_widget,\n",
    "    filename_widget,\n",
    "    execute_button,\n",
    "    output\n",
    ")\n"
   ]
  },
  {
   "cell_type": "code",
   "execution_count": 4,
   "id": "120b3fc2",
   "metadata": {},
   "outputs": [
    {
     "name": "stdout",
     "output_type": "stream",
     "text": [
      "----------------------------------------------------------------------------------------\n",
      "DATA EXPLORATION\n",
      "----------------------------------------------------------------------------------------\n",
      "First few rows:\n",
      "   CATEGORY SUBCAT  NAME STATUS PAVEMENT SRFC_TYP CRRG_WAY BULT_ON DRECTN  \\\n",
      "0         1      6  None      1        2        2        1       1   None   \n",
      "1         1      6  None      1        2        2        1       1   None   \n",
      "2         1      6  None      1        2        2        1       1   None   \n",
      "3         1      6  None      1        2        2        1       1   None   \n",
      "4         1      6  None      1        2        2        1       1   None   \n",
      "\n",
      "  O_DRECTN ADL_INFO                                           geometry  \n",
      "0     None     None  MULTILINESTRING ((82.72979 25.51358, 82.72973 ...  \n",
      "1     None     None  MULTILINESTRING ((82.71749 25.51475, 82.71761 ...  \n",
      "2     None     None  MULTILINESTRING ((82.73286 25.52538, 82.73268 ...  \n",
      "3     None     None  MULTILINESTRING ((82.73286 25.52538, 82.73319 ...  \n",
      "4     None     None  MULTILINESTRING ((82.74137 25.52702, 82.74146 ...  \n",
      "----------------------------------------------------------------------------------------\n",
      "CRS: EPSG:4326\n",
      "Number of features: 74686\n",
      "Geometry types: ['MultiLineString']\n",
      "Any null geometries: False\n",
      "Sample coordinates: MULTILINESTRING ((82.7297865575583 25.513575645429857, 82.72973213005767 25.513359520867642, 82.72968918965367 25.513256122465368, 82.72968495926595 25.51323646638675, 82.72968277401348 25.51320311438011, 82.72968846963197 25.513203113058477, 82.72995276012449 25.513050576041078))\n"
     ]
    }
   ],
   "source": [
    "import os \n",
    "import geopandas as gpd\n",
    "input_dir = \"./Data\"\n",
    "vector_data = \"road.geojson\" #replace with your filename\n",
    "filepath = os.path.join(input_dir, vector_data)\n",
    "gdf = gpd.read_file(filepath)\n",
    "\n",
    "# Check basic structure\n",
    "print(\"----------------------------------------------------------------------------------------\")\n",
    "print(\"DATA EXPLORATION\")\n",
    "print(\"----------------------------------------------------------------------------------------\")\n",
    "print(\"First few rows:\")\n",
    "print(gdf.head())\n",
    "print(\"----------------------------------------------------------------------------------------\")\n",
    "print(\"CRS:\", gdf.crs)\n",
    "print(\"Number of features:\", len(gdf))\n",
    "\n",
    "# Check geometry types and nulls\n",
    "print(\"Geometry types:\", gdf.geometry.geom_type.unique())\n",
    "print(\"Any null geometries:\", gdf.geometry.isna().any())\n",
    "print(\"Sample coordinates:\", gdf.geometry.iloc[0])\n"
   ]
  },
  {
   "cell_type": "code",
   "execution_count": null,
   "id": "72f33c8f",
   "metadata": {},
   "outputs": [],
   "source": []
  }
 ],
 "metadata": {
  "kernelspec": {
   "display_name": "gdisandbox",
   "language": "python",
   "name": "python3"
  },
  "language_info": {
   "codemirror_mode": {
    "name": "ipython",
    "version": 3
   },
   "file_extension": ".py",
   "mimetype": "text/x-python",
   "name": "python",
   "nbconvert_exporter": "python",
   "pygments_lexer": "ipython3",
   "version": "3.12.8"
  }
 },
 "nbformat": 4,
 "nbformat_minor": 5
}
